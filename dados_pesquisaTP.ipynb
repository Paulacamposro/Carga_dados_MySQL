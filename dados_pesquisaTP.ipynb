{
 "cells": [
  {
   "cell_type": "markdown",
   "id": "1ccdcf20",
   "metadata": {},
   "source": [
    "### Realizar carga de dados no banco de dados MySQL\n",
    "\n",
    "### 0.1 - Importar bibliotecas\n",
    "###    1 - Coletar dados\n",
    "###    2 - Criar EER no MySQL\n",
    "###    3 - Criar conexão com banco de dados\n",
    "###    4 - Criar estrutura de dados com apenas registros unicos\n",
    "###    5 - Eliminar registros duplicados\n",
    "###    6 - Inserir registros no banco de dados\n",
    "###    7 - Criar tabela temporaria para fazer joins (stg)\n",
    "###    8 - Inserir dados na tabela de pesquisa\n",
    "###    9 - Fechar a conexão com o banco de dados"
   ]
  },
  {
   "cell_type": "markdown",
   "id": "a0cef255",
   "metadata": {},
   "source": [
    "### 0.1 - Importar bibliotecas"
   ]
  },
  {
   "cell_type": "code",
   "execution_count": 1,
   "id": "606dbfc3",
   "metadata": {},
   "outputs": [],
   "source": [
    "import pandas as pd\n",
    "import os\n",
    "import MySQLdb\n",
    "import sqlalchemy"
   ]
  },
  {
   "cell_type": "code",
   "execution_count": null,
   "id": "8c7eae7a",
   "metadata": {},
   "outputs": [],
   "source": []
  },
  {
   "cell_type": "markdown",
   "id": "71e17e88",
   "metadata": {},
   "source": [
    "###    1 - Coletar dados"
   ]
  },
  {
   "cell_type": "code",
   "execution_count": 2,
   "id": "65acf065",
   "metadata": {},
   "outputs": [],
   "source": [
    "DIRETORIO = 'C:/datasets'"
   ]
  },
  {
   "cell_type": "code",
   "execution_count": 3,
   "id": "5397ffb1",
   "metadata": {},
   "outputs": [],
   "source": [
    "lista_df = []\n",
    "lista_path = os.listdir(DIRETORIO)"
   ]
  },
  {
   "cell_type": "code",
   "execution_count": 4,
   "id": "586a2976",
   "metadata": {},
   "outputs": [
    {
     "data": {
      "text/plain": [
       "['2020-01-01.csv', '2020-01-02.csv', '2020-01-03.csv']"
      ]
     },
     "execution_count": 4,
     "metadata": {},
     "output_type": "execute_result"
    }
   ],
   "source": [
    "lista_path[:3]"
   ]
  },
  {
   "cell_type": "code",
   "execution_count": 20,
   "id": "462e777a",
   "metadata": {},
   "outputs": [],
   "source": [
    "lista_df = []\n",
    "for arquivo in lista_path:\n",
    "    local_arquivo = os.path.join(DIRETORIO, arquivo)\n",
    "    df = pd.read_csv(local_arquivo, sep = '|', encoding='latin-1')\n",
    "    lista_df.append(df)\n",
    "df = pd.concat(lista_df)   "
   ]
  },
  {
   "cell_type": "code",
   "execution_count": 29,
   "id": "e9d34fc0",
   "metadata": {},
   "outputs": [
    {
     "data": {
      "text/html": [
       "<div>\n",
       "<style scoped>\n",
       "    .dataframe tbody tr th:only-of-type {\n",
       "        vertical-align: middle;\n",
       "    }\n",
       "\n",
       "    .dataframe tbody tr th {\n",
       "        vertical-align: top;\n",
       "    }\n",
       "\n",
       "    .dataframe thead th {\n",
       "        text-align: right;\n",
       "    }\n",
       "</style>\n",
       "<table border=\"1\" class=\"dataframe\">\n",
       "  <thead>\n",
       "    <tr style=\"text-align: right;\">\n",
       "      <th></th>\n",
       "      <th>cod_pessoa</th>\n",
       "      <th>data_coleta</th>\n",
       "      <th>genero</th>\n",
       "      <th>data_nascimento</th>\n",
       "      <th>animal_estimacao</th>\n",
       "      <th>clima</th>\n",
       "      <th>bebida_favorita</th>\n",
       "      <th>hobbies</th>\n",
       "    </tr>\n",
       "  </thead>\n",
       "  <tbody>\n",
       "    <tr>\n",
       "      <th>0</th>\n",
       "      <td>10141743</td>\n",
       "      <td>2020-01-01</td>\n",
       "      <td>Masculino</td>\n",
       "      <td>1981-04-25</td>\n",
       "      <td>peixe</td>\n",
       "      <td>frio</td>\n",
       "      <td>Cerveja</td>\n",
       "      <td>Praticar esporte</td>\n",
       "    </tr>\n",
       "    <tr>\n",
       "      <th>1</th>\n",
       "      <td>10141860</td>\n",
       "      <td>2020-01-01</td>\n",
       "      <td>Feminino</td>\n",
       "      <td>1966-01-19</td>\n",
       "      <td>peixe</td>\n",
       "      <td>quente</td>\n",
       "      <td>Café</td>\n",
       "      <td>Assistir TV</td>\n",
       "    </tr>\n",
       "    <tr>\n",
       "      <th>2</th>\n",
       "      <td>10142548</td>\n",
       "      <td>2020-01-01</td>\n",
       "      <td>Masculino</td>\n",
       "      <td>1973-08-02</td>\n",
       "      <td>tartaruga</td>\n",
       "      <td>frio</td>\n",
       "      <td>Café</td>\n",
       "      <td>Ler livros</td>\n",
       "    </tr>\n",
       "    <tr>\n",
       "      <th>3</th>\n",
       "      <td>10142591</td>\n",
       "      <td>2020-01-01</td>\n",
       "      <td>Masculino</td>\n",
       "      <td>1997-03-05</td>\n",
       "      <td>gato</td>\n",
       "      <td>moderado</td>\n",
       "      <td>Cerveja</td>\n",
       "      <td>Aprender algo novo</td>\n",
       "    </tr>\n",
       "    <tr>\n",
       "      <th>4</th>\n",
       "      <td>10142654</td>\n",
       "      <td>2020-01-01</td>\n",
       "      <td>Feminino</td>\n",
       "      <td>1969-08-05</td>\n",
       "      <td>tartaruga</td>\n",
       "      <td>moderado</td>\n",
       "      <td>Café</td>\n",
       "      <td>Assistir TV</td>\n",
       "    </tr>\n",
       "    <tr>\n",
       "      <th>0</th>\n",
       "      <td>10141523</td>\n",
       "      <td>2020-01-02</td>\n",
       "      <td>Feminino</td>\n",
       "      <td>1998-09-24</td>\n",
       "      <td>gato</td>\n",
       "      <td>quente</td>\n",
       "      <td>Cerveja</td>\n",
       "      <td>Aprender algo novo</td>\n",
       "    </tr>\n",
       "    <tr>\n",
       "      <th>1</th>\n",
       "      <td>10141996</td>\n",
       "      <td>2020-01-02</td>\n",
       "      <td>Feminino</td>\n",
       "      <td>1973-03-13</td>\n",
       "      <td>tartaruga</td>\n",
       "      <td>quente</td>\n",
       "      <td>refrigerante</td>\n",
       "      <td>Escrever</td>\n",
       "    </tr>\n",
       "    <tr>\n",
       "      <th>2</th>\n",
       "      <td>10142089</td>\n",
       "      <td>2020-01-02</td>\n",
       "      <td>Feminino</td>\n",
       "      <td>1970-03-23</td>\n",
       "      <td>gato</td>\n",
       "      <td>moderado</td>\n",
       "      <td>Água</td>\n",
       "      <td>Pintar quadros</td>\n",
       "    </tr>\n",
       "    <tr>\n",
       "      <th>3</th>\n",
       "      <td>10142145</td>\n",
       "      <td>2020-01-02</td>\n",
       "      <td>Masculino</td>\n",
       "      <td>1998-08-01</td>\n",
       "      <td>peixe</td>\n",
       "      <td>frio</td>\n",
       "      <td>refrigerante</td>\n",
       "      <td>Escrever</td>\n",
       "    </tr>\n",
       "    <tr>\n",
       "      <th>4</th>\n",
       "      <td>10142520</td>\n",
       "      <td>2020-01-02</td>\n",
       "      <td>Masculino</td>\n",
       "      <td>1994-05-09</td>\n",
       "      <td>peixe</td>\n",
       "      <td>moderado</td>\n",
       "      <td>Café</td>\n",
       "      <td>Praticar esporte</td>\n",
       "    </tr>\n",
       "  </tbody>\n",
       "</table>\n",
       "</div>"
      ],
      "text/plain": [
       "   cod_pessoa data_coleta     genero data_nascimento animal_estimacao  \\\n",
       "0    10141743  2020-01-01  Masculino      1981-04-25            peixe   \n",
       "1    10141860  2020-01-01   Feminino      1966-01-19            peixe   \n",
       "2    10142548  2020-01-01  Masculino      1973-08-02        tartaruga   \n",
       "3    10142591  2020-01-01  Masculino      1997-03-05             gato   \n",
       "4    10142654  2020-01-01   Feminino      1969-08-05        tartaruga   \n",
       "0    10141523  2020-01-02   Feminino      1998-09-24             gato   \n",
       "1    10141996  2020-01-02   Feminino      1973-03-13        tartaruga   \n",
       "2    10142089  2020-01-02   Feminino      1970-03-23             gato   \n",
       "3    10142145  2020-01-02  Masculino      1998-08-01            peixe   \n",
       "4    10142520  2020-01-02  Masculino      1994-05-09            peixe   \n",
       "\n",
       "      clima bebida_favorita             hobbies  \n",
       "0      frio         Cerveja    Praticar esporte  \n",
       "1    quente            Café         Assistir TV  \n",
       "2      frio            Café          Ler livros  \n",
       "3  moderado         Cerveja  Aprender algo novo  \n",
       "4  moderado            Café         Assistir TV  \n",
       "0    quente         Cerveja  Aprender algo novo  \n",
       "1    quente    refrigerante            Escrever  \n",
       "2  moderado            Água      Pintar quadros  \n",
       "3      frio    refrigerante            Escrever  \n",
       "4  moderado            Café    Praticar esporte  "
      ]
     },
     "execution_count": 29,
     "metadata": {},
     "output_type": "execute_result"
    }
   ],
   "source": [
    "df[:10]"
   ]
  },
  {
   "cell_type": "code",
   "execution_count": 22,
   "id": "6c6b355b",
   "metadata": {},
   "outputs": [],
   "source": [
    "lista_path = os.listdir(DIRETORIO)"
   ]
  },
  {
   "cell_type": "code",
   "execution_count": 23,
   "id": "dd0a6e9d",
   "metadata": {},
   "outputs": [
    {
     "data": {
      "text/plain": [
       "'2020-12-31.csv'"
      ]
     },
     "execution_count": 23,
     "metadata": {},
     "output_type": "execute_result"
    }
   ],
   "source": [
    "lista_path[-1]"
   ]
  },
  {
   "cell_type": "code",
   "execution_count": 7,
   "id": "b3dc5614",
   "metadata": {},
   "outputs": [],
   "source": []
  },
  {
   "cell_type": "code",
   "execution_count": 24,
   "id": "a3052e92",
   "metadata": {},
   "outputs": [
    {
     "data": {
      "text/html": [
       "<div>\n",
       "<style scoped>\n",
       "    .dataframe tbody tr th:only-of-type {\n",
       "        vertical-align: middle;\n",
       "    }\n",
       "\n",
       "    .dataframe tbody tr th {\n",
       "        vertical-align: top;\n",
       "    }\n",
       "\n",
       "    .dataframe thead th {\n",
       "        text-align: right;\n",
       "    }\n",
       "</style>\n",
       "<table border=\"1\" class=\"dataframe\">\n",
       "  <thead>\n",
       "    <tr style=\"text-align: right;\">\n",
       "      <th></th>\n",
       "      <th>cod_pessoa</th>\n",
       "      <th>data_coleta</th>\n",
       "      <th>genero</th>\n",
       "      <th>data_nascimento</th>\n",
       "      <th>animal_estimacao</th>\n",
       "      <th>clima</th>\n",
       "      <th>bebida_favorita</th>\n",
       "      <th>hobbies</th>\n",
       "    </tr>\n",
       "  </thead>\n",
       "  <tbody>\n",
       "    <tr>\n",
       "      <th>0</th>\n",
       "      <td>10141743</td>\n",
       "      <td>2020-01-01</td>\n",
       "      <td>Masculino</td>\n",
       "      <td>1981-04-25</td>\n",
       "      <td>peixe</td>\n",
       "      <td>frio</td>\n",
       "      <td>Cerveja</td>\n",
       "      <td>Praticar esporte</td>\n",
       "    </tr>\n",
       "    <tr>\n",
       "      <th>1</th>\n",
       "      <td>10141860</td>\n",
       "      <td>2020-01-01</td>\n",
       "      <td>Feminino</td>\n",
       "      <td>1966-01-19</td>\n",
       "      <td>peixe</td>\n",
       "      <td>quente</td>\n",
       "      <td>Café</td>\n",
       "      <td>Assistir TV</td>\n",
       "    </tr>\n",
       "    <tr>\n",
       "      <th>2</th>\n",
       "      <td>10142548</td>\n",
       "      <td>2020-01-01</td>\n",
       "      <td>Masculino</td>\n",
       "      <td>1973-08-02</td>\n",
       "      <td>tartaruga</td>\n",
       "      <td>frio</td>\n",
       "      <td>Café</td>\n",
       "      <td>Ler livros</td>\n",
       "    </tr>\n",
       "    <tr>\n",
       "      <th>3</th>\n",
       "      <td>10142591</td>\n",
       "      <td>2020-01-01</td>\n",
       "      <td>Masculino</td>\n",
       "      <td>1997-03-05</td>\n",
       "      <td>gato</td>\n",
       "      <td>moderado</td>\n",
       "      <td>Cerveja</td>\n",
       "      <td>Aprender algo novo</td>\n",
       "    </tr>\n",
       "    <tr>\n",
       "      <th>4</th>\n",
       "      <td>10142654</td>\n",
       "      <td>2020-01-01</td>\n",
       "      <td>Feminino</td>\n",
       "      <td>1969-08-05</td>\n",
       "      <td>tartaruga</td>\n",
       "      <td>moderado</td>\n",
       "      <td>Café</td>\n",
       "      <td>Assistir TV</td>\n",
       "    </tr>\n",
       "  </tbody>\n",
       "</table>\n",
       "</div>"
      ],
      "text/plain": [
       "   cod_pessoa data_coleta     genero data_nascimento animal_estimacao  \\\n",
       "0    10141743  2020-01-01  Masculino      1981-04-25            peixe   \n",
       "1    10141860  2020-01-01   Feminino      1966-01-19            peixe   \n",
       "2    10142548  2020-01-01  Masculino      1973-08-02        tartaruga   \n",
       "3    10142591  2020-01-01  Masculino      1997-03-05             gato   \n",
       "4    10142654  2020-01-01   Feminino      1969-08-05        tartaruga   \n",
       "\n",
       "      clima bebida_favorita             hobbies  \n",
       "0      frio         Cerveja    Praticar esporte  \n",
       "1    quente            Café         Assistir TV  \n",
       "2      frio            Café          Ler livros  \n",
       "3  moderado         Cerveja  Aprender algo novo  \n",
       "4  moderado            Café         Assistir TV  "
      ]
     },
     "execution_count": 24,
     "metadata": {},
     "output_type": "execute_result"
    }
   ],
   "source": [
    "df.head()"
   ]
  },
  {
   "cell_type": "code",
   "execution_count": null,
   "id": "cf3f4a19",
   "metadata": {},
   "outputs": [],
   "source": []
  },
  {
   "cell_type": "markdown",
   "id": "3e8cc57b",
   "metadata": {},
   "source": [
    "###    2 - Criar EER no MySQL"
   ]
  },
  {
   "cell_type": "code",
   "execution_count": 1,
   "id": "2d5d3992",
   "metadata": {},
   "outputs": [],
   "source": [
    "from IPython.display import Image"
   ]
  },
  {
   "cell_type": "code",
   "execution_count": 2,
   "id": "e8ab23de",
   "metadata": {},
   "outputs": [
    {
     "data": {
      "image/jpeg": "[encoded data removed]",
      "text/plain": [
       "<IPython.core.display.Image object>"
      ]
     },
     "execution_count": 2,
     "metadata": {},
     "output_type": "execute_result"
    }
   ],
   "source": [
    "Image( 'C:/Mysql/diagrama.jpg' )"
   ]
  },
  {
   "cell_type": "code",
   "execution_count": null,
   "id": "5d696c50",
   "metadata": {},
   "outputs": [],
   "source": []
  },
  {
   "cell_type": "markdown",
   "id": "f83b7c99",
   "metadata": {},
   "source": [
    "###    3 - Criar conexão com banco de dados"
   ]
  },
  {
   "cell_type": "code",
   "execution_count": null,
   "id": "1aeeabf7",
   "metadata": {},
   "outputs": [],
   "source": [
    "user = 'root'\n",
    "password = 'senha'\n",
    "host = 'localhost'\n",
    "database = 'pesquisa' #schema\n",
    "\n",
    "string_conexao = f'mysql://{user}:{password}@{host}/{database}'\n",
    "string_conexao  "
   ]
  },
  {
   "cell_type": "code",
   "execution_count": 13,
   "id": "afc075c9",
   "metadata": {},
   "outputs": [],
   "source": [
    "engine = sqlalchemy.create_engine(string_conexao)\n",
    "conn = engine.connect()"
   ]
  },
  {
   "cell_type": "code",
   "execution_count": null,
   "id": "6e1775e3",
   "metadata": {},
   "outputs": [],
   "source": []
  },
  {
   "cell_type": "markdown",
   "id": "2870d00d",
   "metadata": {},
   "source": [
    "###    4 - Criar estrutura de dados com apenas registros unicos"
   ]
  },
  {
   "cell_type": "code",
   "execution_count": 36,
   "id": "1a137028",
   "metadata": {},
   "outputs": [
    {
     "data": {
      "text/html": [
       "<div>\n",
       "<style scoped>\n",
       "    .dataframe tbody tr th:only-of-type {\n",
       "        vertical-align: middle;\n",
       "    }\n",
       "\n",
       "    .dataframe tbody tr th {\n",
       "        vertical-align: top;\n",
       "    }\n",
       "\n",
       "    .dataframe thead th {\n",
       "        text-align: right;\n",
       "    }\n",
       "</style>\n",
       "<table border=\"1\" class=\"dataframe\">\n",
       "  <thead>\n",
       "    <tr style=\"text-align: right;\">\n",
       "      <th></th>\n",
       "      <th>cod_pessoa</th>\n",
       "      <th>genero</th>\n",
       "      <th>data_nascimento</th>\n",
       "    </tr>\n",
       "  </thead>\n",
       "  <tbody>\n",
       "    <tr>\n",
       "      <th>0</th>\n",
       "      <td>10141743</td>\n",
       "      <td>Masculino</td>\n",
       "      <td>1981-04-25</td>\n",
       "    </tr>\n",
       "    <tr>\n",
       "      <th>1</th>\n",
       "      <td>10141860</td>\n",
       "      <td>Feminino</td>\n",
       "      <td>1966-01-19</td>\n",
       "    </tr>\n",
       "    <tr>\n",
       "      <th>2</th>\n",
       "      <td>10142548</td>\n",
       "      <td>Masculino</td>\n",
       "      <td>1973-08-02</td>\n",
       "    </tr>\n",
       "    <tr>\n",
       "      <th>3</th>\n",
       "      <td>10142591</td>\n",
       "      <td>Masculino</td>\n",
       "      <td>1997-03-05</td>\n",
       "    </tr>\n",
       "    <tr>\n",
       "      <th>4</th>\n",
       "      <td>10142654</td>\n",
       "      <td>Feminino</td>\n",
       "      <td>1969-08-05</td>\n",
       "    </tr>\n",
       "    <tr>\n",
       "      <th>...</th>\n",
       "      <td>...</td>\n",
       "      <td>...</td>\n",
       "      <td>...</td>\n",
       "    </tr>\n",
       "    <tr>\n",
       "      <th>1</th>\n",
       "      <td>10142475</td>\n",
       "      <td>Masculino</td>\n",
       "      <td>1955-05-30</td>\n",
       "    </tr>\n",
       "    <tr>\n",
       "      <th>2</th>\n",
       "      <td>10142522</td>\n",
       "      <td>Masculino</td>\n",
       "      <td>1954-12-22</td>\n",
       "    </tr>\n",
       "    <tr>\n",
       "      <th>3</th>\n",
       "      <td>10142881</td>\n",
       "      <td>Masculino</td>\n",
       "      <td>1952-07-30</td>\n",
       "    </tr>\n",
       "    <tr>\n",
       "      <th>4</th>\n",
       "      <td>10143184</td>\n",
       "      <td>Masculino</td>\n",
       "      <td>1984-06-05</td>\n",
       "    </tr>\n",
       "    <tr>\n",
       "      <th>5</th>\n",
       "      <td>10143307</td>\n",
       "      <td>Masculino</td>\n",
       "      <td>1971-08-29</td>\n",
       "    </tr>\n",
       "  </tbody>\n",
       "</table>\n",
       "<p>2127 rows × 3 columns</p>\n",
       "</div>"
      ],
      "text/plain": [
       "    cod_pessoa     genero data_nascimento\n",
       "0     10141743  Masculino      1981-04-25\n",
       "1     10141860   Feminino      1966-01-19\n",
       "2     10142548  Masculino      1973-08-02\n",
       "3     10142591  Masculino      1997-03-05\n",
       "4     10142654   Feminino      1969-08-05\n",
       "..         ...        ...             ...\n",
       "1     10142475  Masculino      1955-05-30\n",
       "2     10142522  Masculino      1954-12-22\n",
       "3     10142881  Masculino      1952-07-30\n",
       "4     10143184  Masculino      1984-06-05\n",
       "5     10143307  Masculino      1971-08-29\n",
       "\n",
       "[2127 rows x 3 columns]"
      ]
     },
     "execution_count": 36,
     "metadata": {},
     "output_type": "execute_result"
    }
   ],
   "source": [
    "df_pessoas = df[[\"cod_pessoa\", \"genero\", \"data_nascimento\"]].drop_duplicates()\n",
    "df_pessoas"
   ]
  },
  {
   "cell_type": "code",
   "execution_count": null,
   "id": "10eb88dc",
   "metadata": {},
   "outputs": [],
   "source": []
  },
  {
   "cell_type": "markdown",
   "id": "eddc72eb",
   "metadata": {},
   "source": [
    "###    5 - Eliminar registros duplicados"
   ]
  },
  {
   "cell_type": "code",
   "execution_count": 26,
   "id": "c39f9e80",
   "metadata": {},
   "outputs": [
    {
     "data": {
      "text/plain": [
       "['peixe', 'tartaruga', 'gato', 'cachorro']"
      ]
     },
     "execution_count": 26,
     "metadata": {},
     "output_type": "execute_result"
    }
   ],
   "source": [
    "animais = list(df.animal_estimacao.unique())\n",
    "animais"
   ]
  },
  {
   "cell_type": "code",
   "execution_count": 27,
   "id": "fc82a335",
   "metadata": {},
   "outputs": [
    {
     "data": {
      "text/plain": [
       "['frio', 'quente', 'moderado']"
      ]
     },
     "execution_count": 27,
     "metadata": {},
     "output_type": "execute_result"
    }
   ],
   "source": [
    "climas = list(df['clima'].unique())\n",
    "climas"
   ]
  },
  {
   "cell_type": "code",
   "execution_count": 28,
   "id": "bf531794",
   "metadata": {},
   "outputs": [
    {
     "data": {
      "text/plain": [
       "['Cerveja', 'Café', 'refrigerante', 'Água', 'Vinho', 'Chá']"
      ]
     },
     "execution_count": 28,
     "metadata": {},
     "output_type": "execute_result"
    }
   ],
   "source": [
    "bebidas = list(df.bebida_favorita.unique())\n",
    "bebidas"
   ]
  },
  {
   "cell_type": "code",
   "execution_count": 30,
   "id": "4c49b3f5",
   "metadata": {},
   "outputs": [
    {
     "data": {
      "text/plain": [
       "['Praticar esporte',\n",
       " 'Assistir TV',\n",
       " 'Ler livros',\n",
       " 'Aprender algo novo',\n",
       " 'Escrever',\n",
       " 'Pintar quadros',\n",
       " 'Dormir',\n",
       " 'Escutar música']"
      ]
     },
     "execution_count": 30,
     "metadata": {},
     "output_type": "execute_result"
    }
   ],
   "source": [
    "hobbies = list(df.hobbies.unique())\n",
    "hobbies"
   ]
  },
  {
   "cell_type": "code",
   "execution_count": 31,
   "id": "3d7d72c2",
   "metadata": {},
   "outputs": [
    {
     "data": {
      "text/plain": [
       "(2127, 8)"
      ]
     },
     "execution_count": 31,
     "metadata": {},
     "output_type": "execute_result"
    }
   ],
   "source": [
    "df.shape"
   ]
  },
  {
   "cell_type": "code",
   "execution_count": null,
   "id": "f3155072",
   "metadata": {},
   "outputs": [],
   "source": []
  },
  {
   "cell_type": "markdown",
   "id": "4af91e48",
   "metadata": {},
   "source": [
    "###    6 - Inserir registros no banco de dados"
   ]
  },
  {
   "cell_type": "code",
   "execution_count": 37,
   "id": "6cdf6774",
   "metadata": {},
   "outputs": [
    {
     "name": "stdout",
     "output_type": "stream",
     "text": [
      "Pandas(Index=0, cod_pessoa=10141743, genero='Masculino', data_nascimento='1981-04-25')\n",
      "Pandas(Index=1, cod_pessoa=10141860, genero='Feminino', data_nascimento='1966-01-19')\n",
      "Pandas(Index=2, cod_pessoa=10142548, genero='Masculino', data_nascimento='1973-08-02')\n"
     ]
    }
   ],
   "source": [
    "for pessoa in df_pessoas[:3].itertuples():\n",
    "    print(pessoa)"
   ]
  },
  {
   "cell_type": "code",
   "execution_count": null,
   "id": "1dd3f5f3",
   "metadata": {},
   "outputs": [],
   "source": []
  },
  {
   "cell_type": "code",
   "execution_count": 33,
   "id": "54b057bd",
   "metadata": {},
   "outputs": [],
   "source": [
    "from sqlalchemy import text"
   ]
  },
  {
   "cell_type": "code",
   "execution_count": null,
   "id": "5068d63d",
   "metadata": {},
   "outputs": [],
   "source": [
    "for pessoa in df_pessoas.itertuples():\n",
    "    cod_pessoa = pessoa.cod_pessoa\n",
    "    genero = pessoa.genero\n",
    "    data_nascimento = str(pessoa.data_nascimento)\n",
    "    \n",
    "    try:\n",
    "        query = f\"\"\"insert into pessoa (cod_pessoa, genero, data_nascimento)\n",
    "        values ('{cod_pessoa}', '{genero}', '{data_nascimento}')\"\"\"\n",
    "        conn.execute(query)\n",
    "        print(f\"registro inserido com sucesso: {cod_pessoa}\")\n",
    "    except Exception as e:\n",
    "        print(f\"não foi possivel inserir {cod_pessoa}. o erro foi : {e}\")"
   ]
  },
  {
   "cell_type": "code",
   "execution_count": null,
   "id": "a43dbafe",
   "metadata": {},
   "outputs": [],
   "source": []
  },
  {
   "cell_type": "code",
   "execution_count": 39,
   "id": "412e7900",
   "metadata": {},
   "outputs": [
    {
     "name": "stdout",
     "output_type": "stream",
     "text": [
      "registro inserido com sucesso: peixe\n",
      "registro inserido com sucesso: tartaruga\n",
      "registro inserido com sucesso: gato\n",
      "registro inserido com sucesso: cachorro\n"
     ]
    }
   ],
   "source": [
    "for animal in animais:  \n",
    "    try:\n",
    "        query = f\"\"\"insert into animal_estimacao (animal)\n",
    "        values ('{animal}')\"\"\"\n",
    "        conn.execute(query)\n",
    "        print(f\"registro inserido com sucesso: {animal}\")\n",
    "    except Exception as e:\n",
    "        print(f\"não foi possivel inserir {animal}. o erro foi : {e}\")"
   ]
  },
  {
   "cell_type": "code",
   "execution_count": 40,
   "id": "eaea3d25",
   "metadata": {},
   "outputs": [
    {
     "name": "stdout",
     "output_type": "stream",
     "text": [
      "registro inserido com sucesso: Cerveja\n",
      "registro inserido com sucesso: Café\n",
      "registro inserido com sucesso: refrigerante\n",
      "registro inserido com sucesso: Água\n",
      "registro inserido com sucesso: Vinho\n",
      "registro inserido com sucesso: Chá\n"
     ]
    }
   ],
   "source": [
    "for bebida in bebidas:  \n",
    "    try:\n",
    "        query = f\"\"\"insert into bebida (bebida)\n",
    "        values ('{bebida}')\"\"\"\n",
    "        conn.execute(query)\n",
    "        print(f\"registro inserido com sucesso: {bebida}\")\n",
    "    except Exception as e:\n",
    "        print(f\"não foi possivel inserir {bebida}. o erro foi : {e}\")"
   ]
  },
  {
   "cell_type": "code",
   "execution_count": 41,
   "id": "47222172",
   "metadata": {},
   "outputs": [
    {
     "name": "stdout",
     "output_type": "stream",
     "text": [
      "registro inserido com sucesso: Praticar esporte\n",
      "registro inserido com sucesso: Assistir TV\n",
      "registro inserido com sucesso: Ler livros\n",
      "registro inserido com sucesso: Aprender algo novo\n",
      "registro inserido com sucesso: Escrever\n",
      "registro inserido com sucesso: Pintar quadros\n",
      "registro inserido com sucesso: Dormir\n",
      "registro inserido com sucesso: Escutar música\n"
     ]
    }
   ],
   "source": [
    "for hobbie in hobbies:  \n",
    "    try:\n",
    "        query = f\"\"\"insert into hobbie (hobbie)\n",
    "        values ('{hobbie}')\"\"\"\n",
    "        conn.execute(query)\n",
    "        print(f\"registro inserido com sucesso: {hobbie}\")\n",
    "    except Exception as e:\n",
    "        print(f\"não foi possivel inserir {hobbie}. o erro foi : {e}\")"
   ]
  },
  {
   "cell_type": "code",
   "execution_count": null,
   "id": "282fdcee",
   "metadata": {},
   "outputs": [],
   "source": [
    "for clima in climas:  \n",
    "    try:\n",
    "        query = f\"\"\"insert into clima (clima)\n",
    "        values ('{clima}')\"\"\"\n",
    "        conn.execute(query)\n",
    "        print(f\"registro inserido com sucesso: {clima}\")\n",
    "    except Exception as e:\n",
    "        print(f\"não foi possivel inserir {clima}. o erro foi : {e}\")"
   ]
  },
  {
   "cell_type": "code",
   "execution_count": null,
   "id": "740a48e9",
   "metadata": {},
   "outputs": [],
   "source": []
  },
  {
   "cell_type": "markdown",
   "id": "0472f690",
   "metadata": {},
   "source": [
    "###    7 - Criar tabela temporaria para fazer joins (stg)"
   ]
  },
  {
   "cell_type": "code",
   "execution_count": 42,
   "id": "3045550d",
   "metadata": {},
   "outputs": [
    {
     "data": {
      "text/plain": [
       "2127"
      ]
     },
     "execution_count": 42,
     "metadata": {},
     "output_type": "execute_result"
    }
   ],
   "source": [
    "df.to_sql('stg_pesquisa', con=conn, schema='pesquisa')"
   ]
  },
  {
   "cell_type": "code",
   "execution_count": null,
   "id": "53eda881",
   "metadata": {},
   "outputs": [],
   "source": []
  },
  {
   "cell_type": "markdown",
   "id": "5ab72061",
   "metadata": {},
   "source": [
    "###    8 - Inserir dados na tabela de pesquisa"
   ]
  },
  {
   "cell_type": "code",
   "execution_count": null,
   "id": "be0257ca",
   "metadata": {},
   "outputs": [],
   "source": [
    "query = \"\"\"\n",
    "        insert into pesquisa (data_pesquisa,\n",
    "        cod_pessoa,\n",
    "        cod_animal_estimacao,\n",
    "        cod_bebida,\n",
    "        cod_hobbie,\n",
    "        cod_clima)\n",
    "\n",
    "        (select stg.data_coleta as data_pesquisa,\n",
    "        stg.cod_pessoa,\n",
    "        aes.cod_animal_estimacao,\n",
    "        beb.cod_bebida,\n",
    "        hob.cod_hobbie,\n",
    "        cli.cod_clima\n",
    "        from stg_pesquisa as stg\n",
    "        join animal_estimacao aes on stg.animal_estimacao = aes.animal\n",
    "        join bebida as beb on beb.bebida = stg.bebida_favorita\n",
    "        join hobbie as hob on hob.hobbie = stg.hobbie\n",
    "        join clima as cli on cli.clima = stg.clima\n",
    "        \n",
    "        \n",
    "        );\n",
    "\n",
    "\"\"\"\n",
    "conn.execute(query)"
   ]
  },
  {
   "cell_type": "code",
   "execution_count": null,
   "id": "1dc68287",
   "metadata": {},
   "outputs": [],
   "source": []
  },
  {
   "cell_type": "code",
   "execution_count": null,
   "id": "795226a5",
   "metadata": {},
   "outputs": [],
   "source": [
    "use pesquisa;\n",
    "\n",
    "select stg.data_coleta as data_pesquisa,\n",
    "        stg.cod_pessoa,\n",
    "        aes.cod_animal_estimacao,\n",
    "        beb.cod_bebida,\n",
    "        hob.cod_hobbie\n",
    "from stg_pesquisa as stg\n",
    "        join animal_estimacao aes on stg.animal_estimacao = aes.animal\n",
    "        join bebida as beb on beb.bebida = stg.bebida_favorita\n",
    "        join hobbie as hob on hob.hobbie = stg.hobbies"
   ]
  },
  {
   "cell_type": "code",
   "execution_count": null,
   "id": "72146b64",
   "metadata": {},
   "outputs": [],
   "source": []
  },
  {
   "cell_type": "markdown",
   "id": "f50c66e2",
   "metadata": {},
   "source": [
    "###    9 - Fechar a conexão com o banco de dados"
   ]
  },
  {
   "cell_type": "code",
   "execution_count": 44,
   "id": "91ba53c0",
   "metadata": {},
   "outputs": [],
   "source": [
    "conn.close()"
   ]
  },
  {
   "cell_type": "code",
   "execution_count": null,
   "id": "f36d00ff",
   "metadata": {},
   "outputs": [],
   "source": []
  }
 ],
 "metadata": {
  "kernelspec": {
   "display_name": "Python 3 (ipykernel)",
   "language": "python",
   "name": "python3"
  },
  "language_info": {
   "codemirror_mode": {
    "name": "ipython",
    "version": 3
   },
   "file_extension": ".py",
   "mimetype": "text/x-python",
   "name": "python",
   "nbconvert_exporter": "python",
   "pygments_lexer": "ipython3",
   "version": "3.10.9"
  }
 },
 "nbformat": 4,
 "nbformat_minor": 5
}
